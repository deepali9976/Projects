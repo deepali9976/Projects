{
  "nbformat": 4,
  "nbformat_minor": 0,
  "metadata": {
    "colab": {
      "provenance": [],
      "authorship_tag": "ABX9TyMCco1ZYWL9sPZ96Y42YXBE",
      "include_colab_link": true
    },
    "kernelspec": {
      "name": "python3",
      "display_name": "Python 3"
    },
    "language_info": {
      "name": "python"
    }
  },
  "cells": [
    {
      "cell_type": "markdown",
      "metadata": {
        "id": "view-in-github",
        "colab_type": "text"
      },
      "source": [
        "<a href=\"https://colab.research.google.com/github/deepali9976/Projects/blob/main/Heart_Disease_Prediction.ipynb\" target=\"_parent\"><img src=\"https://colab.research.google.com/assets/colab-badge.svg\" alt=\"Open In Colab\"/></a>"
      ]
    },
    {
      "cell_type": "markdown",
      "source": [
        "APRIORI FOR HEART DISEASE PREDICTION\n"
      ],
      "metadata": {
        "id": "4RlrbnL4y6RT"
      }
    },
    {
      "cell_type": "code",
      "source": [
        "import pandas as pd\n",
        "heart_disease_data = pd.read_csv('/content/Heart_Disease_Prediction.csv')\n",
        "heart_disease_data.head(), heart_disease_data.info()\n"
      ],
      "metadata": {
        "colab": {
          "base_uri": "https://localhost:8080/"
        },
        "id": "rl0PSqmcvHYk",
        "outputId": "aa410e01-de27-40e7-f5bb-d846daf40f74"
      },
      "execution_count": null,
      "outputs": [
        {
          "output_type": "stream",
          "name": "stdout",
          "text": [
            "<class 'pandas.core.frame.DataFrame'>\n",
            "RangeIndex: 270 entries, 0 to 269\n",
            "Data columns (total 14 columns):\n",
            " #   Column                   Non-Null Count  Dtype  \n",
            "---  ------                   --------------  -----  \n",
            " 0   Age                      270 non-null    int64  \n",
            " 1   Sex                      270 non-null    int64  \n",
            " 2   Chest pain type          270 non-null    int64  \n",
            " 3   BP                       270 non-null    int64  \n",
            " 4   Cholesterol              270 non-null    int64  \n",
            " 5   FBS over 120             270 non-null    int64  \n",
            " 6   EKG results              270 non-null    int64  \n",
            " 7   Max HR                   270 non-null    int64  \n",
            " 8   Exercise angina          270 non-null    int64  \n",
            " 9   ST depression            270 non-null    float64\n",
            " 10  Slope of ST              270 non-null    int64  \n",
            " 11  Number of vessels fluro  270 non-null    int64  \n",
            " 12  Thallium                 270 non-null    int64  \n",
            " 13  Heart Disease            270 non-null    object \n",
            "dtypes: float64(1), int64(12), object(1)\n",
            "memory usage: 29.7+ KB\n"
          ]
        },
        {
          "output_type": "stream",
          "name": "stderr",
          "text": [
            "/usr/local/lib/python3.10/dist-packages/ipykernel/ipkernel.py:283: DeprecationWarning: `should_run_async` will not call `transform_cell` automatically in the future. Please pass the result to `transformed_cell` argument and any exception that happen during thetransform in `preprocessing_exc_tuple` in IPython 7.17 and above.\n",
            "  and should_run_async(code)\n"
          ]
        },
        {
          "output_type": "execute_result",
          "data": {
            "text/plain": [
              "(   Age  Sex  Chest pain type   BP  Cholesterol  FBS over 120  EKG results  \\\n",
              " 0   70    1                4  130          322             0            2   \n",
              " 1   67    0                3  115          564             0            2   \n",
              " 2   57    1                2  124          261             0            0   \n",
              " 3   64    1                4  128          263             0            0   \n",
              " 4   74    0                2  120          269             0            2   \n",
              " \n",
              "    Max HR  Exercise angina  ST depression  Slope of ST  \\\n",
              " 0     109                0            2.4            2   \n",
              " 1     160                0            1.6            2   \n",
              " 2     141                0            0.3            1   \n",
              " 3     105                1            0.2            2   \n",
              " 4     121                1            0.2            1   \n",
              " \n",
              "    Number of vessels fluro  Thallium Heart Disease  \n",
              " 0                        3         3      Presence  \n",
              " 1                        0         7       Absence  \n",
              " 2                        0         7      Presence  \n",
              " 3                        1         7       Absence  \n",
              " 4                        1         3       Absence  ,\n",
              " None)"
            ]
          },
          "metadata": {},
          "execution_count": 9
        }
      ]
    },
    {
      "cell_type": "code",
      "source": [
        "from mlxtend.frequent_patterns import apriori, association_rules\n",
        "\n",
        "\n",
        "heart_disease_data['Age_Group'] = pd.cut(heart_disease_data['Age'], bins=[0, 40, 60, 100], labels=['Young', 'Middle-aged', 'Senior'])\n",
        "heart_disease_data['Cholesterol_Level'] = pd.cut(heart_disease_data['Cholesterol'], bins=[0, 200, 300, 600], labels=['Normal', 'High', 'Very High'])\n",
        "\n",
        "columns_for_apriori = ['Age_Group', 'Chest pain type', 'FBS over 120', 'Max HR', 'Exercise angina', 'Cholesterol_Level', 'Heart Disease']\n",
        "apriori_data = heart_disease_data[columns_for_apriori]\n",
        "\n",
        "apriori_data_encoded = pd.get_dummies(apriori_data, columns=['Age_Group', 'Chest pain type', 'FBS over 120', 'Max HR', 'Exercise angina', 'Cholesterol_Level', 'Heart Disease'])\n",
        "\n",
        "frequent_itemsets = apriori(apriori_data_encoded, min_support=0.1, use_colnames=True)\n",
        "rules = association_rules(frequent_itemsets,num_itemsets=6, metric=\"confidence\", min_threshold=0.6)\n",
        "\n",
        "frequent_itemsets.head(), rules.head()\n"
      ],
      "metadata": {
        "colab": {
          "base_uri": "https://localhost:8080/"
        },
        "id": "HY9ov8TexLQ7",
        "outputId": "ad79ac55-0bed-42e3-98dd-6451624282f3"
      },
      "execution_count": null,
      "outputs": [
        {
          "output_type": "stream",
          "name": "stderr",
          "text": [
            "/usr/local/lib/python3.10/dist-packages/ipykernel/ipkernel.py:283: DeprecationWarning: `should_run_async` will not call `transform_cell` automatically in the future. Please pass the result to `transformed_cell` argument and any exception that happen during thetransform in `preprocessing_exc_tuple` in IPython 7.17 and above.\n",
            "  and should_run_async(code)\n"
          ]
        },
        {
          "output_type": "execute_result",
          "data": {
            "text/plain": [
              "(    support                 itemsets\n",
              " 0  0.677778  (Age_Group_Middle-aged)\n",
              " 1  0.266667       (Age_Group_Senior)\n",
              " 2  0.155556      (Chest pain type_2)\n",
              " 3  0.292593      (Chest pain type_3)\n",
              " 4  0.477778      (Chest pain type_4),\n",
              "                antecedents              consequents  antecedent support  \\\n",
              " 0      (Chest pain type_2)  (Age_Group_Middle-aged)            0.155556   \n",
              " 1      (Chest pain type_3)  (Age_Group_Middle-aged)            0.292593   \n",
              " 2      (Chest pain type_4)  (Age_Group_Middle-aged)            0.477778   \n",
              " 3  (Age_Group_Middle-aged)         (FBS over 120_0)            0.677778   \n",
              " 4         (FBS over 120_0)  (Age_Group_Middle-aged)            0.851852   \n",
              " \n",
              "    consequent support   support  confidence      lift  representativity  \\\n",
              " 0            0.677778  0.122222    0.785714  1.159251               1.0   \n",
              " 1            0.677778  0.207407    0.708861  1.045860               1.0   \n",
              " 2            0.677778  0.311111    0.651163  0.960732               1.0   \n",
              " 3            0.851852  0.574074    0.846995  0.994298               1.0   \n",
              " 4            0.677778  0.574074    0.673913  0.994298               1.0   \n",
              " \n",
              "    leverage  conviction  zhangs_metric   jaccard  certainty  kulczynski  \n",
              " 0  0.016790    1.503704       0.162679  0.171875   0.334975    0.483021  \n",
              " 1  0.009095    1.106763       0.061986  0.271845   0.096464    0.507436  \n",
              " 2 -0.012716    0.923704      -0.072586  0.368421  -0.082598    0.555090  \n",
              " 3 -0.003292    0.968254      -0.017486  0.600775  -0.032787    0.760454  \n",
              " 4 -0.003292    0.988148      -0.037267  0.600775  -0.011994    0.760454  )"
            ]
          },
          "metadata": {},
          "execution_count": 12
        }
      ]
    },
    {
      "cell_type": "code",
      "source": [
        "# Filter rules where antecedents contain exactly 2 items\n",
        "rules_two_symptoms = rules[rules['antecedents'].apply(lambda x: len(x) == 2)]\n",
        "\n",
        "\n",
        "print(\"Association Rules Based on Exactly Two Symptoms:\")\n",
        "for _, rule in rules_two_symptoms.iterrows():\n",
        "    antecedents = ', '.join(rule['antecedents'])\n",
        "    consequents = ', '.join(rule['consequents'])\n",
        "    print(f\"Symptoms: {antecedents} -> Prediction: {consequents}, Confidence: {rule['confidence']:.2f}\")\n"
      ],
      "metadata": {
        "colab": {
          "base_uri": "https://localhost:8080/"
        },
        "id": "QMcP1_W9xUKT",
        "outputId": "2150302e-f57f-4829-b461-3f775491a538"
      },
      "execution_count": null,
      "outputs": [
        {
          "output_type": "stream",
          "name": "stdout",
          "text": [
            "Association Rules Based on Exactly Two Symptoms:\n",
            "Symptoms: Age_Group_Middle-aged, Chest pain type_2 -> Prediction: FBS over 120_0, Confidence: 0.88\n",
            "Symptoms: FBS over 120_0, Chest pain type_2 -> Prediction: Age_Group_Middle-aged, Confidence: 0.78\n",
            "Symptoms: Age_Group_Middle-aged, Chest pain type_2 -> Prediction: Exercise angina_0, Confidence: 0.94\n",
            "Symptoms: Exercise angina_0, Chest pain type_2 -> Prediction: Age_Group_Middle-aged, Confidence: 0.82\n",
            "Symptoms: Heart Disease_Absence, Chest pain type_2 -> Prediction: Age_Group_Middle-aged, Confidence: 0.80\n",
            "Symptoms: Age_Group_Middle-aged, Chest pain type_2 -> Prediction: Heart Disease_Absence, Confidence: 0.85\n",
            "Symptoms: Age_Group_Middle-aged, Chest pain type_3 -> Prediction: FBS over 120_0, Confidence: 0.77\n",
            "Symptoms: Chest pain type_3, FBS over 120_0 -> Prediction: Age_Group_Middle-aged, Confidence: 0.69\n",
            "Symptoms: Age_Group_Middle-aged, Chest pain type_3 -> Prediction: Exercise angina_0, Confidence: 0.88\n",
            "Symptoms: Chest pain type_3, Exercise angina_0 -> Prediction: Age_Group_Middle-aged, Confidence: 0.72\n",
            "Symptoms: Age_Group_Middle-aged, Chest pain type_3 -> Prediction: Cholesterol_Level_High, Confidence: 0.66\n",
            "Symptoms: Cholesterol_Level_High, Chest pain type_3 -> Prediction: Age_Group_Middle-aged, Confidence: 0.73\n",
            "Symptoms: Heart Disease_Absence, Chest pain type_3 -> Prediction: Age_Group_Middle-aged, Confidence: 0.73\n",
            "Symptoms: Age_Group_Middle-aged, Chest pain type_3 -> Prediction: Heart Disease_Absence, Confidence: 0.80\n",
            "Symptoms: Age_Group_Middle-aged, Chest pain type_4 -> Prediction: FBS over 120_0, Confidence: 0.89\n",
            "Symptoms: Chest pain type_4, FBS over 120_0 -> Prediction: Age_Group_Middle-aged, Confidence: 0.65\n",
            "Symptoms: Age_Group_Middle-aged, Exercise angina_1 -> Prediction: Chest pain type_4, Confidence: 0.83\n",
            "Symptoms: Chest pain type_4, Exercise angina_1 -> Prediction: Age_Group_Middle-aged, Confidence: 0.70\n",
            "Symptoms: Age_Group_Middle-aged, Chest pain type_4 -> Prediction: Cholesterol_Level_High, Confidence: 0.75\n",
            "Symptoms: Cholesterol_Level_High, Chest pain type_4 -> Prediction: Age_Group_Middle-aged, Confidence: 0.70\n",
            "Symptoms: Heart Disease_Absence, Chest pain type_4 -> Prediction: Age_Group_Middle-aged, Confidence: 0.71\n",
            "Symptoms: Age_Group_Middle-aged, Chest pain type_4 -> Prediction: Heart Disease_Presence, Confidence: 0.68\n",
            "Symptoms: Age_Group_Middle-aged, Heart Disease_Presence -> Prediction: Chest pain type_4, Confidence: 0.76\n",
            "Symptoms: Chest pain type_4, Heart Disease_Presence -> Prediction: Age_Group_Middle-aged, Confidence: 0.63\n",
            "Symptoms: Age_Group_Middle-aged, FBS over 120_0 -> Prediction: Exercise angina_0, Confidence: 0.68\n",
            "Symptoms: Age_Group_Middle-aged, Exercise angina_0 -> Prediction: FBS over 120_0, Confidence: 0.85\n",
            "Symptoms: FBS over 120_0, Exercise angina_0 -> Prediction: Age_Group_Middle-aged, Confidence: 0.68\n",
            "Symptoms: Age_Group_Middle-aged, Exercise angina_1 -> Prediction: FBS over 120_0, Confidence: 0.85\n",
            "Symptoms: Exercise angina_1, FBS over 120_0 -> Prediction: Age_Group_Middle-aged, Confidence: 0.66\n",
            "Symptoms: Age_Group_Middle-aged, Cholesterol_Level_High -> Prediction: FBS over 120_0, Confidence: 0.85\n",
            "Symptoms: Age_Group_Middle-aged, FBS over 120_0 -> Prediction: Cholesterol_Level_High, Confidence: 0.73\n",
            "Symptoms: Cholesterol_Level_High, FBS over 120_0 -> Prediction: Age_Group_Middle-aged, Confidence: 0.71\n",
            "Symptoms: Heart Disease_Absence, FBS over 120_0 -> Prediction: Age_Group_Middle-aged, Confidence: 0.72\n",
            "Symptoms: Heart Disease_Absence, Age_Group_Middle-aged -> Prediction: FBS over 120_0, Confidence: 0.84\n",
            "Symptoms: Age_Group_Middle-aged, Heart Disease_Presence -> Prediction: FBS over 120_0, Confidence: 0.85\n",
            "Symptoms: FBS over 120_0, Heart Disease_Presence -> Prediction: Age_Group_Middle-aged, Confidence: 0.62\n",
            "Symptoms: Age_Group_Middle-aged, Cholesterol_Level_High -> Prediction: Exercise angina_0, Confidence: 0.67\n",
            "Symptoms: Age_Group_Middle-aged, Exercise angina_0 -> Prediction: Cholesterol_Level_High, Confidence: 0.72\n",
            "Symptoms: Cholesterol_Level_High, Exercise angina_0 -> Prediction: Age_Group_Middle-aged, Confidence: 0.71\n",
            "Symptoms: Heart Disease_Absence, Age_Group_Middle-aged -> Prediction: Exercise angina_0, Confidence: 0.84\n",
            "Symptoms: Heart Disease_Absence, Exercise angina_0 -> Prediction: Age_Group_Middle-aged, Confidence: 0.72\n",
            "Symptoms: Age_Group_Middle-aged, Exercise angina_0 -> Prediction: Heart Disease_Absence, Confidence: 0.73\n",
            "Symptoms: Exercise angina_0, Heart Disease_Presence -> Prediction: Age_Group_Middle-aged, Confidence: 0.61\n",
            "Symptoms: Age_Group_Middle-aged, Exercise angina_1 -> Prediction: Cholesterol_Level_High, Confidence: 0.75\n",
            "Symptoms: Cholesterol_Level_High, Exercise angina_1 -> Prediction: Age_Group_Middle-aged, Confidence: 0.69\n",
            "Symptoms: Age_Group_Middle-aged, Exercise angina_1 -> Prediction: Heart Disease_Presence, Confidence: 0.71\n",
            "Symptoms: Exercise angina_1, Heart Disease_Presence -> Prediction: Age_Group_Middle-aged, Confidence: 0.64\n",
            "Symptoms: Heart Disease_Absence, Cholesterol_Level_High -> Prediction: Age_Group_Middle-aged, Confidence: 0.77\n",
            "Symptoms: Heart Disease_Absence, Age_Group_Middle-aged -> Prediction: Cholesterol_Level_High, Confidence: 0.73\n",
            "Symptoms: Age_Group_Middle-aged, Heart Disease_Presence -> Prediction: Cholesterol_Level_High, Confidence: 0.72\n",
            "Symptoms: Cholesterol_Level_High, Heart Disease_Presence -> Prediction: Age_Group_Middle-aged, Confidence: 0.63\n",
            "Symptoms: Chest pain type_4, Age_Group_Senior -> Prediction: FBS over 120_0, Confidence: 0.90\n",
            "Symptoms: Chest pain type_4, Age_Group_Senior -> Prediction: Heart Disease_Presence, Confidence: 0.74\n",
            "Symptoms: Age_Group_Senior, Heart Disease_Presence -> Prediction: Chest pain type_4, Confidence: 0.74\n",
            "Symptoms: FBS over 120_0, Age_Group_Senior -> Prediction: Exercise angina_0, Confidence: 0.65\n",
            "Symptoms: Exercise angina_0, Age_Group_Senior -> Prediction: FBS over 120_0, Confidence: 0.83\n",
            "Symptoms: Cholesterol_Level_High, Age_Group_Senior -> Prediction: FBS over 120_0, Confidence: 0.79\n",
            "Symptoms: FBS over 120_0, Age_Group_Senior -> Prediction: Cholesterol_Level_High, Confidence: 0.63\n",
            "Symptoms: Heart Disease_Absence, Age_Group_Senior -> Prediction: FBS over 120_0, Confidence: 0.82\n",
            "Symptoms: Age_Group_Senior, Heart Disease_Presence -> Prediction: FBS over 120_0, Confidence: 0.85\n",
            "Symptoms: Cholesterol_Level_High, Age_Group_Senior -> Prediction: Exercise angina_0, Confidence: 0.62\n",
            "Symptoms: Exercise angina_0, Age_Group_Senior -> Prediction: Cholesterol_Level_High, Confidence: 0.64\n",
            "Symptoms: Heart Disease_Absence, Age_Group_Senior -> Prediction: Exercise angina_0, Confidence: 0.85\n",
            "Symptoms: Age_Group_Senior, Heart Disease_Presence -> Prediction: Cholesterol_Level_High, Confidence: 0.72\n",
            "Symptoms: FBS over 120_0, Chest pain type_2 -> Prediction: Exercise angina_0, Confidence: 0.92\n",
            "Symptoms: Exercise angina_0, Chest pain type_2 -> Prediction: FBS over 120_0, Confidence: 0.89\n",
            "Symptoms: Cholesterol_Level_High, Chest pain type_2 -> Prediction: FBS over 120_0, Confidence: 0.91\n",
            "Symptoms: FBS over 120_0, Chest pain type_2 -> Prediction: Cholesterol_Level_High, Confidence: 0.78\n",
            "Symptoms: Heart Disease_Absence, Chest pain type_2 -> Prediction: FBS over 120_0, Confidence: 0.89\n",
            "Symptoms: FBS over 120_0, Chest pain type_2 -> Prediction: Heart Disease_Absence, Confidence: 0.84\n",
            "Symptoms: Cholesterol_Level_High, Chest pain type_2 -> Prediction: Exercise angina_0, Confidence: 0.87\n",
            "Symptoms: Exercise angina_0, Chest pain type_2 -> Prediction: Cholesterol_Level_High, Confidence: 0.74\n",
            "Symptoms: Heart Disease_Absence, Chest pain type_2 -> Prediction: Exercise angina_0, Confidence: 0.91\n",
            "Symptoms: Exercise angina_0, Chest pain type_2 -> Prediction: Heart Disease_Absence, Confidence: 0.84\n",
            "Symptoms: Chest pain type_3, FBS over 120_0 -> Prediction: Exercise angina_0, Confidence: 0.87\n",
            "Symptoms: Chest pain type_3, Exercise angina_0 -> Prediction: FBS over 120_0, Confidence: 0.79\n",
            "Symptoms: Cholesterol_Level_High, Chest pain type_3 -> Prediction: FBS over 120_0, Confidence: 0.78\n",
            "Symptoms: Chest pain type_3, FBS over 120_0 -> Prediction: Cholesterol_Level_High, Confidence: 0.65\n",
            "Symptoms: Heart Disease_Absence, Chest pain type_3 -> Prediction: FBS over 120_0, Confidence: 0.77\n",
            "Symptoms: Chest pain type_3, FBS over 120_0 -> Prediction: Heart Disease_Absence, Confidence: 0.77\n",
            "Symptoms: Cholesterol_Level_High, Chest pain type_3 -> Prediction: Exercise angina_0, Confidence: 0.82\n",
            "Symptoms: Chest pain type_3, Exercise angina_0 -> Prediction: Cholesterol_Level_High, Confidence: 0.62\n",
            "Symptoms: Heart Disease_Absence, Chest pain type_3 -> Prediction: Exercise angina_0, Confidence: 0.89\n",
            "Symptoms: Chest pain type_3, Exercise angina_0 -> Prediction: Heart Disease_Absence, Confidence: 0.81\n",
            "Symptoms: Heart Disease_Absence, Chest pain type_3 -> Prediction: Cholesterol_Level_High, Confidence: 0.63\n",
            "Symptoms: Cholesterol_Level_High, Chest pain type_3 -> Prediction: Heart Disease_Absence, Confidence: 0.76\n",
            "Symptoms: Chest pain type_4, Exercise angina_0 -> Prediction: FBS over 120_0, Confidence: 0.93\n",
            "Symptoms: Chest pain type_4, Exercise angina_1 -> Prediction: FBS over 120_0, Confidence: 0.87\n",
            "Symptoms: Exercise angina_1, FBS over 120_0 -> Prediction: Chest pain type_4, Confidence: 0.80\n",
            "Symptoms: Cholesterol_Level_High, Chest pain type_4 -> Prediction: FBS over 120_0, Confidence: 0.88\n",
            "Symptoms: Chest pain type_4, FBS over 120_0 -> Prediction: Cholesterol_Level_High, Confidence: 0.68\n",
            "Symptoms: Heart Disease_Absence, Chest pain type_4 -> Prediction: FBS over 120_0, Confidence: 0.97\n",
            "Symptoms: Chest pain type_4, FBS over 120_0 -> Prediction: Heart Disease_Presence, Confidence: 0.68\n",
            "Symptoms: Chest pain type_4, Heart Disease_Presence -> Prediction: FBS over 120_0, Confidence: 0.87\n",
            "Symptoms: FBS over 120_0, Heart Disease_Presence -> Prediction: Chest pain type_4, Confidence: 0.77\n",
            "Symptoms: Chest pain type_4, Exercise angina_0 -> Prediction: Cholesterol_Level_High, Confidence: 0.71\n",
            "Symptoms: Heart Disease_Absence, Chest pain type_4 -> Prediction: Exercise angina_0, Confidence: 0.74\n",
            "Symptoms: Chest pain type_4, Exercise angina_1 -> Prediction: Cholesterol_Level_High, Confidence: 0.69\n",
            "Symptoms: Cholesterol_Level_High, Exercise angina_1 -> Prediction: Chest pain type_4, Confidence: 0.75\n",
            "Symptoms: Chest pain type_4, Exercise angina_1 -> Prediction: Heart Disease_Presence, Confidence: 0.86\n",
            "Symptoms: Chest pain type_4, Heart Disease_Presence -> Prediction: Exercise angina_1, Confidence: 0.66\n",
            "Symptoms: Exercise angina_1, Heart Disease_Presence -> Prediction: Chest pain type_4, Confidence: 0.91\n",
            "Symptoms: Heart Disease_Absence, Chest pain type_4 -> Prediction: Cholesterol_Level_High, Confidence: 0.71\n",
            "Symptoms: Cholesterol_Level_High, Chest pain type_4 -> Prediction: Heart Disease_Presence, Confidence: 0.70\n",
            "Symptoms: Chest pain type_4, Heart Disease_Presence -> Prediction: Cholesterol_Level_High, Confidence: 0.69\n",
            "Symptoms: Cholesterol_Level_High, Heart Disease_Presence -> Prediction: Chest pain type_4, Confidence: 0.73\n",
            "Symptoms: Cholesterol_Level_High, FBS over 120_0 -> Prediction: Exercise angina_0, Confidence: 0.67\n",
            "Symptoms: Cholesterol_Level_High, Exercise angina_0 -> Prediction: FBS over 120_0, Confidence: 0.85\n",
            "Symptoms: FBS over 120_0, Exercise angina_0 -> Prediction: Cholesterol_Level_High, Confidence: 0.69\n",
            "Symptoms: Heart Disease_Absence, FBS over 120_0 -> Prediction: Exercise angina_0, Confidence: 0.83\n",
            "Symptoms: Heart Disease_Absence, Exercise angina_0 -> Prediction: FBS over 120_0, Confidence: 0.83\n",
            "Symptoms: FBS over 120_0, Exercise angina_0 -> Prediction: Heart Disease_Absence, Confidence: 0.69\n",
            "Symptoms: Exercise angina_0, Heart Disease_Presence -> Prediction: FBS over 120_0, Confidence: 0.89\n",
            "Symptoms: Cholesterol_Level_High, Exercise angina_1 -> Prediction: FBS over 120_0, Confidence: 0.83\n",
            "Symptoms: Exercise angina_1, FBS over 120_0 -> Prediction: Cholesterol_Level_High, Confidence: 0.70\n",
            "Symptoms: Exercise angina_1, FBS over 120_0 -> Prediction: Heart Disease_Presence, Confidence: 0.72\n",
            "Symptoms: Exercise angina_1, Heart Disease_Presence -> Prediction: FBS over 120_0, Confidence: 0.83\n",
            "Symptoms: Heart Disease_Absence, Cholesterol_Level_High -> Prediction: FBS over 120_0, Confidence: 0.84\n",
            "Symptoms: Heart Disease_Absence, FBS over 120_0 -> Prediction: Cholesterol_Level_High, Confidence: 0.69\n",
            "Symptoms: Cholesterol_Level_High, Heart Disease_Presence -> Prediction: FBS over 120_0, Confidence: 0.84\n",
            "Symptoms: FBS over 120_0, Heart Disease_Presence -> Prediction: Cholesterol_Level_High, Confidence: 0.70\n",
            "Symptoms: Heart Disease_Absence, Cholesterol_Level_High -> Prediction: Exercise angina_0, Confidence: 0.82\n",
            "Symptoms: Heart Disease_Absence, Exercise angina_0 -> Prediction: Cholesterol_Level_High, Confidence: 0.66\n",
            "Symptoms: Cholesterol_Level_High, Exercise angina_0 -> Prediction: Heart Disease_Absence, Confidence: 0.67\n",
            "Symptoms: Exercise angina_0, Heart Disease_Presence -> Prediction: Cholesterol_Level_High, Confidence: 0.76\n",
            "Symptoms: Cholesterol_Level_High, Exercise angina_1 -> Prediction: Heart Disease_Presence, Confidence: 0.70\n",
            "Symptoms: Exercise angina_1, Heart Disease_Presence -> Prediction: Cholesterol_Level_High, Confidence: 0.68\n",
            "Symptoms: Age_Group_Middle-aged, Chest pain type_2 -> Prediction: FBS over 120_0, Exercise angina_0, Confidence: 0.85\n",
            "Symptoms: FBS over 120_0, Chest pain type_2 -> Prediction: Age_Group_Middle-aged, Exercise angina_0, Confidence: 0.76\n",
            "Symptoms: Exercise angina_0, Chest pain type_2 -> Prediction: Age_Group_Middle-aged, FBS over 120_0, Confidence: 0.74\n",
            "Symptoms: Age_Group_Middle-aged, Chest pain type_3 -> Prediction: FBS over 120_0, Exercise angina_0, Confidence: 0.66\n",
            "Symptoms: Age_Group_Middle-aged, Chest pain type_3 -> Prediction: Heart Disease_Absence, FBS over 120_0, Confidence: 0.61\n",
            "Symptoms: Cholesterol_Level_High, Chest pain type_3 -> Prediction: Age_Group_Middle-aged, Exercise angina_0, Confidence: 0.61\n",
            "Symptoms: Heart Disease_Absence, Chest pain type_3 -> Prediction: Age_Group_Middle-aged, Exercise angina_0, Confidence: 0.63\n",
            "Symptoms: Age_Group_Middle-aged, Chest pain type_3 -> Prediction: Heart Disease_Absence, Exercise angina_0, Confidence: 0.70\n",
            "Symptoms: Age_Group_Middle-aged, Exercise angina_1 -> Prediction: Chest pain type_4, FBS over 120_0, Confidence: 0.71\n",
            "Symptoms: Chest pain type_4, Exercise angina_1 -> Prediction: Age_Group_Middle-aged, FBS over 120_0, Confidence: 0.60\n",
            "Symptoms: Age_Group_Middle-aged, Chest pain type_4 -> Prediction: Cholesterol_Level_High, FBS over 120_0, Confidence: 0.65\n",
            "Symptoms: Cholesterol_Level_High, Chest pain type_4 -> Prediction: Age_Group_Middle-aged, FBS over 120_0, Confidence: 0.61\n",
            "Symptoms: Age_Group_Middle-aged, Heart Disease_Presence -> Prediction: Chest pain type_4, FBS over 120_0, Confidence: 0.65\n",
            "Symptoms: Age_Group_Middle-aged, Exercise angina_1 -> Prediction: Chest pain type_4, Heart Disease_Presence, Confidence: 0.69\n",
            "Symptoms: Exercise angina_1, Heart Disease_Presence -> Prediction: Age_Group_Middle-aged, Chest pain type_4, Confidence: 0.62\n",
            "Symptoms: Age_Group_Middle-aged, Exercise angina_0 -> Prediction: Cholesterol_Level_High, FBS over 120_0, Confidence: 0.62\n",
            "Symptoms: Cholesterol_Level_High, Exercise angina_0 -> Prediction: Age_Group_Middle-aged, FBS over 120_0, Confidence: 0.62\n",
            "Symptoms: Heart Disease_Absence, Age_Group_Middle-aged -> Prediction: FBS over 120_0, Exercise angina_0, Confidence: 0.69\n",
            "Symptoms: Age_Group_Middle-aged, Exercise angina_0 -> Prediction: Heart Disease_Absence, FBS over 120_0, Confidence: 0.60\n",
            "Symptoms: Age_Group_Middle-aged, Exercise angina_1 -> Prediction: Cholesterol_Level_High, FBS over 120_0, Confidence: 0.61\n",
            "Symptoms: Heart Disease_Absence, Cholesterol_Level_High -> Prediction: Age_Group_Middle-aged, FBS over 120_0, Confidence: 0.66\n",
            "Symptoms: Heart Disease_Absence, Age_Group_Middle-aged -> Prediction: Cholesterol_Level_High, FBS over 120_0, Confidence: 0.63\n",
            "Symptoms: Age_Group_Middle-aged, Heart Disease_Presence -> Prediction: Cholesterol_Level_High, FBS over 120_0, Confidence: 0.60\n",
            "Symptoms: Heart Disease_Absence, Cholesterol_Level_High -> Prediction: Age_Group_Middle-aged, Exercise angina_0, Confidence: 0.62\n",
            "Symptoms: Heart Disease_Absence, Chest pain type_2 -> Prediction: FBS over 120_0, Exercise angina_0, Confidence: 0.83\n",
            "Symptoms: FBS over 120_0, Chest pain type_2 -> Prediction: Heart Disease_Absence, Exercise angina_0, Confidence: 0.78\n",
            "Symptoms: Exercise angina_0, Chest pain type_2 -> Prediction: Heart Disease_Absence, FBS over 120_0, Confidence: 0.76\n",
            "Symptoms: Cholesterol_Level_High, Chest pain type_3 -> Prediction: FBS over 120_0, Exercise angina_0, Confidence: 0.67\n",
            "Symptoms: Heart Disease_Absence, Chest pain type_3 -> Prediction: FBS over 120_0, Exercise angina_0, Confidence: 0.68\n",
            "Symptoms: Chest pain type_3, FBS over 120_0 -> Prediction: Heart Disease_Absence, Exercise angina_0, Confidence: 0.68\n",
            "Symptoms: Chest pain type_3, Exercise angina_0 -> Prediction: Heart Disease_Absence, FBS over 120_0, Confidence: 0.62\n",
            "Symptoms: Cholesterol_Level_High, Chest pain type_3 -> Prediction: Heart Disease_Absence, FBS over 120_0, Confidence: 0.61\n",
            "Symptoms: Cholesterol_Level_High, Chest pain type_3 -> Prediction: Heart Disease_Absence, Exercise angina_0, Confidence: 0.65\n",
            "Symptoms: Chest pain type_4, Exercise angina_0 -> Prediction: Cholesterol_Level_High, FBS over 120_0, Confidence: 0.64\n",
            "Symptoms: Heart Disease_Absence, Chest pain type_4 -> Prediction: FBS over 120_0, Exercise angina_0, Confidence: 0.71\n",
            "Symptoms: Cholesterol_Level_High, Exercise angina_1 -> Prediction: Chest pain type_4, FBS over 120_0, Confidence: 0.64\n",
            "Symptoms: Chest pain type_4, Exercise angina_1 -> Prediction: FBS over 120_0, Heart Disease_Presence, Confidence: 0.73\n",
            "Symptoms: Exercise angina_1, FBS over 120_0 -> Prediction: Chest pain type_4, Heart Disease_Presence, Confidence: 0.67\n",
            "Symptoms: Exercise angina_1, Heart Disease_Presence -> Prediction: Chest pain type_4, FBS over 120_0, Confidence: 0.77\n",
            "Symptoms: Cholesterol_Level_High, Heart Disease_Presence -> Prediction: Chest pain type_4, FBS over 120_0, Confidence: 0.62\n",
            "Symptoms: Cholesterol_Level_High, Exercise angina_1 -> Prediction: Chest pain type_4, Heart Disease_Presence, Confidence: 0.62\n",
            "Symptoms: Exercise angina_1, Heart Disease_Presence -> Prediction: Cholesterol_Level_High, Chest pain type_4, Confidence: 0.61\n",
            "Symptoms: Heart Disease_Absence, Cholesterol_Level_High -> Prediction: FBS over 120_0, Exercise angina_0, Confidence: 0.68\n",
            "Symptoms: Exercise angina_0, Heart Disease_Presence -> Prediction: Cholesterol_Level_High, FBS over 120_0, Confidence: 0.67\n"
          ]
        },
        {
          "output_type": "stream",
          "name": "stderr",
          "text": [
            "/usr/local/lib/python3.10/dist-packages/ipykernel/ipkernel.py:283: DeprecationWarning: `should_run_async` will not call `transform_cell` automatically in the future. Please pass the result to `transformed_cell` argument and any exception that happen during thetransform in `preprocessing_exc_tuple` in IPython 7.17 and above.\n",
            "  and should_run_async(code)\n"
          ]
        }
      ]
    },
    {
      "cell_type": "code",
      "source": [],
      "metadata": {
        "id": "P-o0uGVgyosx"
      },
      "execution_count": null,
      "outputs": []
    }
  ]
}